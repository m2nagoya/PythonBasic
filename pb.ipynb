{
 "cells": [
  {
   "cell_type": "markdown",
   "metadata": {},
   "source": [
    "## 1. Hello Worldを出力してみよう"
   ]
  },
  {
   "cell_type": "code",
   "execution_count": 79,
   "metadata": {
    "scrolled": false
   },
   "outputs": [
    {
     "name": "stdout",
     "output_type": "stream",
     "text": [
      "Hello world!\n"
     ]
    }
   ],
   "source": [
    "print(\"Hello world!\")"
   ]
  },
  {
   "cell_type": "markdown",
   "metadata": {},
   "source": [
    "## 「Python」を出力してみよう"
   ]
  },
  {
   "cell_type": "code",
   "execution_count": 80,
   "metadata": {},
   "outputs": [
    {
     "name": "stdout",
     "output_type": "stream",
     "text": [
      "Python\n"
     ]
    }
   ],
   "source": [
    "print(\"Python\")"
   ]
  },
  {
   "cell_type": "markdown",
   "metadata": {},
   "source": [
    "## 2. 変数の使い方"
   ]
  },
  {
   "cell_type": "code",
   "execution_count": 81,
   "metadata": {},
   "outputs": [
    {
     "name": "stdout",
     "output_type": "stream",
     "text": [
      "100\n",
      "100 100\n",
      "100 円\n"
     ]
    }
   ],
   "source": [
    "n = 100\n",
    "print(n) \n",
    "print(n , n)\n",
    "print(n , \"円\")"
   ]
  },
  {
   "cell_type": "markdown",
   "metadata": {},
   "source": [
    "## 「5000 兆円」を出力してみよう"
   ]
  },
  {
   "cell_type": "code",
   "execution_count": 52,
   "metadata": {},
   "outputs": [
    {
     "name": "stdout",
     "output_type": "stream",
     "text": [
      "5000 兆円\n"
     ]
    }
   ],
   "source": [
    "print(5000 , \"兆円\")"
   ]
  },
  {
   "cell_type": "markdown",
   "metadata": {},
   "source": [
    "## 3. コメントの付け方"
   ]
  },
  {
   "cell_type": "code",
   "execution_count": 27,
   "metadata": {},
   "outputs": [
    {
     "name": "stdout",
     "output_type": "stream",
     "text": [
      "Hello World\n"
     ]
    }
   ],
   "source": [
    "# コメントの付け方\n",
    "print(\"Hello World\")\n",
    "# print(\"Comment\")"
   ]
  },
  {
   "cell_type": "markdown",
   "metadata": {},
   "source": [
    "## 「B5」だけ出力してみよう"
   ]
  },
  {
   "cell_type": "code",
   "execution_count": null,
   "metadata": {},
   "outputs": [],
   "source": [
    "# 紙のサイズ\n",
    "print(\"A3\")\n",
    "print(\"A4\")\n",
    "print(\"B5\")"
   ]
  },
  {
   "cell_type": "markdown",
   "metadata": {},
   "source": [
    "## 4. データ型を理解しよう"
   ]
  },
  {
   "cell_type": "code",
   "execution_count": 42,
   "metadata": {},
   "outputs": [
    {
     "name": "stdout",
     "output_type": "stream",
     "text": [
      "整数型 : 3\n",
      "小数型 : 3.14\n",
      "文字型 : 円周率\n",
      "円周率は 3 ではなく 3.14\n"
     ]
    }
   ],
   "source": [
    "n = 3\n",
    "pi = 3.14\n",
    "moji = \"円周率\"\n",
    "\n",
    "print(\"整数型 :\" , n)\n",
    "print(\"小数型 :\" , pi)\n",
    "print(\"文字型 :\" , moji )\n",
    "\n",
    "print(\"円周率は\",3,\"ではなく\",3.14)"
   ]
  },
  {
   "cell_type": "markdown",
   "metadata": {},
   "source": [
    "## 「」を出力してみよう"
   ]
  },
  {
   "cell_type": "code",
   "execution_count": null,
   "metadata": {},
   "outputs": [],
   "source": []
  },
  {
   "cell_type": "markdown",
   "metadata": {},
   "source": [
    "## 5. 演算"
   ]
  },
  {
   "cell_type": "code",
   "execution_count": 48,
   "metadata": {},
   "outputs": [
    {
     "name": "stdout",
     "output_type": "stream",
     "text": [
      "足し算 : 200\n",
      "引き算 : 50\n",
      "掛け算 : 1000\n",
      "割り算 : 10.0\n",
      "余剰 : 20\n"
     ]
    }
   ],
   "source": [
    "n = 100\n",
    "\n",
    "# 足し算\n",
    "print(\"足し算 :\" , n + 100)\n",
    "\n",
    "# 引き算\n",
    "print(\"引き算 :\" , n - 50)\n",
    "\n",
    "# 掛け算\n",
    "print(\"掛け算 :\" , n * 10)\n",
    "\n",
    "# 割り算(商の数)\n",
    "print(\"割り算 :\" , n / 10)\n",
    "\n",
    "# 余剰(余りの数)\n",
    "print(\"余剰 :\" , n % 40)"
   ]
  },
  {
   "cell_type": "markdown",
   "metadata": {},
   "source": [
    "## 「7+7÷7+7×7-7」を計算してみよう"
   ]
  },
  {
   "cell_type": "code",
   "execution_count": 51,
   "metadata": {},
   "outputs": [
    {
     "name": "stdout",
     "output_type": "stream",
     "text": [
      "50.0\n"
     ]
    }
   ],
   "source": [
    "n = 7\n",
    "print(n+n/n+n*n-n)"
   ]
  },
  {
   "cell_type": "markdown",
   "metadata": {},
   "source": [
    "## 6. if文 (条件分岐)"
   ]
  },
  {
   "cell_type": "code",
   "execution_count": 72,
   "metadata": {},
   "outputs": [
    {
     "name": "stdout",
     "output_type": "stream",
     "text": [
      "お酒は20歳になってから！\n"
     ]
    }
   ],
   "source": [
    "# ageは年齢\n",
    "age = 18\n",
    "\n",
    "if age < 20 :\n",
    "    print(\"お酒は20歳になってから！\")\n",
    "else :\n",
    "    print(\"お酒飲めるよ！\")"
   ]
  },
  {
   "cell_type": "markdown",
   "metadata": {},
   "source": [
    "## 進級できたかif文で確認してみよう"
   ]
  },
  {
   "cell_type": "code",
   "execution_count": 77,
   "metadata": {},
   "outputs": [
    {
     "name": "stdout",
     "output_type": "stream",
     "text": [
      "進級出来ません\n"
     ]
    }
   ],
   "source": [
    "# unitは単位数\n",
    "unit = 30 \n",
    "\n",
    "# if文(条件分岐)\n",
    "if unit < 35 :\n",
    "    print(\"進級出来ません\")\n",
    "else :\n",
    "    print(\"進級出来た\")"
   ]
  },
  {
   "cell_type": "markdown",
   "metadata": {},
   "source": [
    "## 7. ループ処理 (for文)"
   ]
  },
  {
   "cell_type": "code",
   "execution_count": 90,
   "metadata": {},
   "outputs": [
    {
     "name": "stdout",
     "output_type": "stream",
     "text": [
      "0\n",
      "1\n",
      "2\n",
      "3\n",
      "4\n"
     ]
    }
   ],
   "source": [
    "for i in range(5) :\n",
    "    print(i)"
   ]
  },
  {
   "cell_type": "code",
   "execution_count": null,
   "metadata": {},
   "outputs": [],
   "source": []
  },
  {
   "cell_type": "markdown",
   "metadata": {},
   "source": [
    "## 8. ループ処理 (while文)"
   ]
  },
  {
   "cell_type": "code",
   "execution_count": 91,
   "metadata": {},
   "outputs": [
    {
     "name": "stdout",
     "output_type": "stream",
     "text": [
      "0\n",
      "1\n",
      "2\n",
      "3\n",
      "4\n"
     ]
    }
   ],
   "source": [
    "i = 0\n",
    "while i < 5:\n",
    "    print(i)  \n",
    "    i = i + 1"
   ]
  },
  {
   "cell_type": "markdown",
   "metadata": {},
   "source": [
    "## 9. 辞書"
   ]
  },
  {
   "cell_type": "code",
   "execution_count": 86,
   "metadata": {},
   "outputs": [
    {
     "name": "stdout",
     "output_type": "stream",
     "text": [
      "100\n",
      "80\n",
      "300\n"
     ]
    }
   ],
   "source": [
    "fruits = {\"apple\": 100, \"orange\": 80, \"melon\": 300}\n",
    "\n",
    "print(fruits[\"apple\"])\n",
    "print(fruits[\"orange\"])\n",
    "print(fruits[\"melon\"])"
   ]
  },
  {
   "cell_type": "code",
   "execution_count": null,
   "metadata": {},
   "outputs": [],
   "source": []
  },
  {
   "cell_type": "markdown",
   "metadata": {},
   "source": [
    "## レポート課題"
   ]
  },
  {
   "cell_type": "code",
   "execution_count": null,
   "metadata": {},
   "outputs": [],
   "source": []
  }
 ],
 "metadata": {
  "kernelspec": {
   "display_name": "Python 3",
   "language": "python",
   "name": "python3"
  },
  "language_info": {
   "codemirror_mode": {
    "name": "ipython",
    "version": 3
   },
   "file_extension": ".py",
   "mimetype": "text/x-python",
   "name": "python",
   "nbconvert_exporter": "python",
   "pygments_lexer": "ipython3",
   "version": "3.7.6"
  }
 },
 "nbformat": 4,
 "nbformat_minor": 4
}
