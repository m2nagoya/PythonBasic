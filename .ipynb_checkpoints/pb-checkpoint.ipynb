{
 "cells": [
  {
   "cell_type": "markdown",
   "metadata": {},
   "source": [
    "# Python基礎"
   ]
  },
  {
   "cell_type": "markdown",
   "metadata": {},
   "source": [
    "## 1. Hello World"
   ]
  },
  {
   "cell_type": "code",
   "execution_count": null,
   "metadata": {
    "scrolled": true
   },
   "outputs": [],
   "source": [
    "print(\"Hello world!\")"
   ]
  },
  {
   "cell_type": "markdown",
   "metadata": {},
   "source": [
    "### 演習1.1「Python」を出力"
   ]
  },
  {
   "cell_type": "code",
   "execution_count": null,
   "metadata": {},
   "outputs": [],
   "source": [
    "print()"
   ]
  },
  {
   "cell_type": "markdown",
   "metadata": {},
   "source": [
    "***\n",
    "## 2. 変数の使い方"
   ]
  },
  {
   "cell_type": "markdown",
   "metadata": {},
   "source": [
    "### 2.1 変数の理解"
   ]
  },
  {
   "cell_type": "code",
   "execution_count": null,
   "metadata": {},
   "outputs": [],
   "source": [
    "n = 100\n",
    "print(n) \n",
    "print(n , n)\n",
    "print(n , \"円\")"
   ]
  },
  {
   "cell_type": "markdown",
   "metadata": {},
   "source": [
    "### 2.2「This is a Pen」を宣言して表示"
   ]
  },
  {
   "cell_type": "code",
   "execution_count": null,
   "metadata": {
    "scrolled": false
   },
   "outputs": [],
   "source": [
    "string = \"This is a Pen\"\n",
    "print(string)"
   ]
  },
  {
   "cell_type": "markdown",
   "metadata": {},
   "source": [
    "### 2.3 変数を連結して表示"
   ]
  },
  {
   "cell_type": "code",
   "execution_count": null,
   "metadata": {},
   "outputs": [],
   "source": [
    "a = \"apple\"\n",
    "b = \"pen\"\n",
    "print(a+b)"
   ]
  },
  {
   "cell_type": "markdown",
   "metadata": {},
   "source": [
    "### 2.4 繰り返し実行"
   ]
  },
  {
   "cell_type": "code",
   "execution_count": null,
   "metadata": {},
   "outputs": [],
   "source": [
    "a = \"123\"\n",
    "print(a*10)"
   ]
  },
  {
   "cell_type": "markdown",
   "metadata": {},
   "source": [
    "### 演習2.1 「5000 円」を出力"
   ]
  },
  {
   "cell_type": "code",
   "execution_count": null,
   "metadata": {},
   "outputs": [],
   "source": [
    "n = 5000\n",
    "print()"
   ]
  },
  {
   "cell_type": "markdown",
   "metadata": {},
   "source": [
    "### 演習2.2 「1」を100個表示"
   ]
  },
  {
   "cell_type": "code",
   "execution_count": null,
   "metadata": {},
   "outputs": [],
   "source": [
    "n = \"1\"\n",
    "print()"
   ]
  },
  {
   "cell_type": "markdown",
   "metadata": {},
   "source": [
    "***\n",
    "## 3. コメントアウト"
   ]
  },
  {
   "cell_type": "markdown",
   "metadata": {},
   "source": [
    "### 3.1 コメントアウトの基本"
   ]
  },
  {
   "cell_type": "code",
   "execution_count": null,
   "metadata": {},
   "outputs": [],
   "source": [
    "print(\"Hello World\")\n",
    "# print(\"Comment\")"
   ]
  },
  {
   "cell_type": "markdown",
   "metadata": {},
   "source": [
    "### 3.2 「B5」だけ出力"
   ]
  },
  {
   "cell_type": "code",
   "execution_count": null,
   "metadata": {},
   "outputs": [],
   "source": [
    "# print(\"A3\")\n",
    "# print(\"A4\")\n",
    "print(\"B5\")"
   ]
  },
  {
   "cell_type": "markdown",
   "metadata": {},
   "source": [
    "### 3.3 複数行をコメントアウト"
   ]
  },
  {
   "cell_type": "code",
   "execution_count": null,
   "metadata": {},
   "outputs": [],
   "source": [
    "print(\"a\")\n",
    "'''\n",
    "print(\"b\")\n",
    "print(\"c\")\n",
    "'''\n",
    "print(\"d\")"
   ]
  },
  {
   "cell_type": "markdown",
   "metadata": {},
   "source": [
    "### 演習3.1 コメントを記述"
   ]
  },
  {
   "cell_type": "code",
   "execution_count": null,
   "metadata": {},
   "outputs": [],
   "source": [
    "\n",
    "print(\"上にコメントを書いて\")"
   ]
  },
  {
   "cell_type": "markdown",
   "metadata": {},
   "source": [
    "### 演習3.2 プログラムをコメントアウト"
   ]
  },
  {
   "cell_type": "code",
   "execution_count": null,
   "metadata": {},
   "outputs": [],
   "source": [
    "n = 100\n",
    "\n",
    "print(\"下の式をコメントアウトしよう\")\n",
    "n = 10000\n",
    "\n",
    "print(n)"
   ]
  },
  {
   "cell_type": "markdown",
   "metadata": {},
   "source": [
    "***\n",
    "## 4. データ型を理解しよう"
   ]
  },
  {
   "cell_type": "markdown",
   "metadata": {},
   "source": [
    "### 4.1 データ型を調べる"
   ]
  },
  {
   "cell_type": "code",
   "execution_count": null,
   "metadata": {},
   "outputs": [],
   "source": [
    "n = 3\n",
    "print(n)\n",
    "print(type(n))\n",
    "\n",
    "n = 3.3\n",
    "print(n)\n",
    "print(type(n))"
   ]
  },
  {
   "cell_type": "markdown",
   "metadata": {},
   "source": [
    "### 4.2 データ型を理解する"
   ]
  },
  {
   "cell_type": "code",
   "execution_count": null,
   "metadata": {},
   "outputs": [],
   "source": [
    "n = 3\n",
    "pi = 3.14\n",
    "text = \"円周率\"\n",
    "\n",
    "print(\"整数型 :\" , n)\n",
    "print(\"小数型 :\" , pi)\n",
    "print(\"文字型 :\" , text )\n",
    "\n",
    "print(text , \"は\", n, \"ではなく\", pi)"
   ]
  },
  {
   "cell_type": "markdown",
   "metadata": {},
   "source": [
    "### 4.3 int型(整数)をfloat型(小数)に変換"
   ]
  },
  {
   "cell_type": "code",
   "execution_count": null,
   "metadata": {},
   "outputs": [],
   "source": [
    "n = 3\n",
    "print(n)\n",
    "print(float(n))"
   ]
  },
  {
   "cell_type": "markdown",
   "metadata": {},
   "source": [
    "### 4.4 float型(小数)をint型(整数)に変換"
   ]
  },
  {
   "cell_type": "code",
   "execution_count": null,
   "metadata": {},
   "outputs": [],
   "source": [
    "n = 3.0\n",
    "print(n)\n",
    "print(int(n))"
   ]
  },
  {
   "cell_type": "markdown",
   "metadata": {},
   "source": [
    "### 演習4.1 小数「3.4」を小数切り捨て"
   ]
  },
  {
   "cell_type": "code",
   "execution_count": null,
   "metadata": {},
   "outputs": [],
   "source": [
    "n = 3.4\n",
    "print()"
   ]
  },
  {
   "cell_type": "markdown",
   "metadata": {},
   "source": [
    "### 演習4.2 小数「-0.5」を小数切り捨て"
   ]
  },
  {
   "cell_type": "code",
   "execution_count": null,
   "metadata": {},
   "outputs": [],
   "source": [
    "n = -0.5\n",
    "print()"
   ]
  },
  {
   "cell_type": "markdown",
   "metadata": {},
   "source": [
    "***\n",
    "## 5. 演算"
   ]
  },
  {
   "cell_type": "markdown",
   "metadata": {},
   "source": [
    "### 5.1 足し算"
   ]
  },
  {
   "cell_type": "code",
   "execution_count": null,
   "metadata": {},
   "outputs": [],
   "source": [
    "a = 1234\n",
    "b = 567\n",
    "print(a+b)"
   ]
  },
  {
   "cell_type": "markdown",
   "metadata": {},
   "source": [
    "### 5.2 引き算"
   ]
  },
  {
   "cell_type": "code",
   "execution_count": null,
   "metadata": {},
   "outputs": [],
   "source": [
    "a = 1234\n",
    "b = 567\n",
    "print(a-b)"
   ]
  },
  {
   "cell_type": "markdown",
   "metadata": {},
   "source": [
    "### 5.3 累乗"
   ]
  },
  {
   "cell_type": "code",
   "execution_count": null,
   "metadata": {},
   "outputs": [],
   "source": [
    "a = 1111\n",
    "print(a*a)\n",
    "print(a**2)"
   ]
  },
  {
   "cell_type": "markdown",
   "metadata": {},
   "source": [
    "### 5.4 四則演算"
   ]
  },
  {
   "cell_type": "code",
   "execution_count": null,
   "metadata": {},
   "outputs": [],
   "source": [
    "n = 100\n",
    "\n",
    "# 足し算\n",
    "print(\"足し算 :\" , n + 100)\n",
    "\n",
    "# 引き算\n",
    "print(\"引き算 :\" , n - 50)\n",
    "\n",
    "# 掛け算\n",
    "print(\"掛け算 :\" , n * 10)\n",
    "\n",
    "# 割り算(商の数)\n",
    "print(\"割り算 :\" , n / 10)\n",
    "\n",
    "# 余剰(余りの数)\n",
    "print(\"余剰 :\" , n % 40)"
   ]
  },
  {
   "cell_type": "markdown",
   "metadata": {},
   "source": [
    "### 5.5 int型(整数)とfloat型(小数)の割り算"
   ]
  },
  {
   "cell_type": "code",
   "execution_count": null,
   "metadata": {},
   "outputs": [],
   "source": [
    "a = 10\n",
    "b = 3.0\n",
    "print(a/b)\n",
    "\n",
    "a = 10.0\n",
    "b = 3\n",
    "print(a/b)"
   ]
  },
  {
   "cell_type": "markdown",
   "metadata": {},
   "source": [
    "### 演習5.1 「7+7÷7+7×7-7」を計算"
   ]
  },
  {
   "cell_type": "code",
   "execution_count": null,
   "metadata": {},
   "outputs": [],
   "source": [
    "n = 7\n",
    "print()"
   ]
  },
  {
   "cell_type": "markdown",
   "metadata": {},
   "source": [
    "### 演習5.2 「100を3で割ると33と余り1です」を出力"
   ]
  },
  {
   "cell_type": "code",
   "execution_count": null,
   "metadata": {},
   "outputs": [],
   "source": [
    "a = 100\n",
    "b = 3\n",
    "print()"
   ]
  },
  {
   "cell_type": "markdown",
   "metadata": {},
   "source": [
    "***\n",
    "## 6. if文 (条件分岐)"
   ]
  },
  {
   "cell_type": "markdown",
   "metadata": {},
   "source": [
    "### 6.1 お酒は20歳になってから"
   ]
  },
  {
   "cell_type": "code",
   "execution_count": null,
   "metadata": {},
   "outputs": [],
   "source": [
    "# ageは年齢\n",
    "age = 18\n",
    "\n",
    "if age < 20 :\n",
    "    print(\"お酒は20歳になってから！\")\n",
    "else :\n",
    "    print(\"お酒飲めるよ！\")"
   ]
  },
  {
   "cell_type": "markdown",
   "metadata": {},
   "source": [
    "### 6.2 進級できたかな"
   ]
  },
  {
   "cell_type": "code",
   "execution_count": null,
   "metadata": {},
   "outputs": [],
   "source": [
    "# unitは単位数\n",
    "unit = 30 \n",
    "\n",
    "# if文(条件分岐)\n",
    "if  unit < 25:\n",
    "    print(\"進級出来ません\")\n",
    "else :\n",
    "    print(\"進級出来た\")"
   ]
  },
  {
   "cell_type": "markdown",
   "metadata": {},
   "source": [
    "### 演習6.1 今年が閏年かどうか"
   ]
  },
  {
   "cell_type": "code",
   "execution_count": null,
   "metadata": {},
   "outputs": [],
   "source": [
    "y = 2020"
   ]
  },
  {
   "cell_type": "markdown",
   "metadata": {},
   "source": [
    "### 演習6.2 BMIで肥満かどうか (BMI ＝ 体重kg ÷ (身長m)^2)"
   ]
  },
  {
   "cell_type": "code",
   "execution_count": null,
   "metadata": {},
   "outputs": [],
   "source": [
    "# BMIが25以上のとき肥満\n",
    "h =170\n",
    "m = 65"
   ]
  },
  {
   "cell_type": "markdown",
   "metadata": {},
   "source": [
    "***\n",
    "## 7. ループ処理 (for文)"
   ]
  },
  {
   "cell_type": "markdown",
   "metadata": {},
   "source": [
    "### 7.1 指定回数ループさせる"
   ]
  },
  {
   "cell_type": "code",
   "execution_count": null,
   "metadata": {},
   "outputs": [],
   "source": [
    "for i in range(5) :\n",
    "    print(i)"
   ]
  },
  {
   "cell_type": "markdown",
   "metadata": {},
   "source": [
    "### 7.2 指定の範囲でループさせる"
   ]
  },
  {
   "cell_type": "code",
   "execution_count": null,
   "metadata": {
    "scrolled": true
   },
   "outputs": [],
   "source": [
    "for i in  range(5,10) :\n",
    "    print(i)"
   ]
  },
  {
   "cell_type": "markdown",
   "metadata": {},
   "source": [
    "### 7.3 決めた値で処理を終了させる"
   ]
  },
  {
   "cell_type": "code",
   "execution_count": null,
   "metadata": {},
   "outputs": [],
   "source": [
    "for n in range(20) :\n",
    "    print(n)\n",
    "    if n == 10 :\n",
    "        break"
   ]
  },
  {
   "cell_type": "markdown",
   "metadata": {},
   "source": [
    "### 7.4 ピラミッドを作る"
   ]
  },
  {
   "cell_type": "code",
   "execution_count": null,
   "metadata": {
    "scrolled": true
   },
   "outputs": [],
   "source": [
    "for i in range(10):\n",
    "    print(\"*\" * i)"
   ]
  },
  {
   "cell_type": "markdown",
   "metadata": {},
   "source": [
    "### 演習7.1 1-100までの総和 (for文で書くこと)"
   ]
  },
  {
   "cell_type": "code",
   "execution_count": null,
   "metadata": {},
   "outputs": [],
   "source": []
  },
  {
   "cell_type": "markdown",
   "metadata": {},
   "source": [
    "### 演習7.2 逆ピラミッドを作る (while文で書くこと)"
   ]
  },
  {
   "cell_type": "raw",
   "metadata": {},
   "source": [
    "         *\n",
    "        **\n",
    "       ***\n",
    "      ****\n",
    "     *****\n",
    "    ******\n",
    "   *******\n",
    "  ********\n",
    " *********\n",
    "**********　を表示するプログラムを作成せよ"
   ]
  },
  {
   "cell_type": "code",
   "execution_count": null,
   "metadata": {},
   "outputs": [],
   "source": []
  },
  {
   "cell_type": "markdown",
   "metadata": {},
   "source": [
    "***\n",
    "## 8. ループ処理 (while文)"
   ]
  },
  {
   "cell_type": "markdown",
   "metadata": {},
   "source": [
    "### 8.1 for文とは別の書き方でカウント"
   ]
  },
  {
   "cell_type": "code",
   "execution_count": null,
   "metadata": {},
   "outputs": [],
   "source": [
    "i = 0\n",
    "while i < 5:\n",
    "    print(i)  \n",
    "    i = i + 1"
   ]
  },
  {
   "cell_type": "markdown",
   "metadata": {},
   "source": [
    "### 8.2 while文を使って1-10の数字を足していく"
   ]
  },
  {
   "cell_type": "code",
   "execution_count": null,
   "metadata": {},
   "outputs": [],
   "source": [
    "i = 0\n",
    "n = 0\n",
    "while i < 10 :\n",
    "    n = n + i\n",
    "    i = i + 1\n",
    "print(\"合計は\",n)"
   ]
  },
  {
   "cell_type": "markdown",
   "metadata": {},
   "source": [
    "### 演習8.1 1-100までの総和 (while文で書くこと)"
   ]
  },
  {
   "cell_type": "code",
   "execution_count": null,
   "metadata": {},
   "outputs": [],
   "source": []
  },
  {
   "cell_type": "markdown",
   "metadata": {},
   "source": [
    "### 演習8.2 逆ピラミッドを作る (while文で書くこと)"
   ]
  },
  {
   "cell_type": "raw",
   "metadata": {},
   "source": [
    "         *\n",
    "        **\n",
    "       ***\n",
    "      ****\n",
    "     *****\n",
    "    ******\n",
    "   *******\n",
    "  ********\n",
    " *********\n",
    "**********　を表示するプログラムを作成せよ"
   ]
  },
  {
   "cell_type": "code",
   "execution_count": null,
   "metadata": {},
   "outputs": [],
   "source": []
  },
  {
   "cell_type": "markdown",
   "metadata": {},
   "source": [
    "***\n",
    "## 9. 辞書"
   ]
  },
  {
   "cell_type": "code",
   "execution_count": null,
   "metadata": {},
   "outputs": [],
   "source": [
    "fruits = {\"apple\": 100, \"orange\": 80, \"melon\": 300}\n",
    "\n",
    "print(\"りんご\", fruits[\"apple\"])\n",
    "print(\"みかん\", fruits[\"orange\"])\n",
    "print(\"メロン\", fruits[\"melon\"])"
   ]
  },
  {
   "cell_type": "code",
   "execution_count": null,
   "metadata": {},
   "outputs": [],
   "source": [
    "country = {\"アメリカ\":\"亜米利加\",\"キューバ\":\"玖馬\"}\n",
    "\n",
    "print(\"アメリカの当て字は\",country[\"アメリカ\"],\"です\")"
   ]
  },
  {
   "cell_type": "markdown",
   "metadata": {},
   "source": [
    "### 演習9.1 「今日の徳島県の天気は晴れ、気温は24℃」を表示"
   ]
  },
  {
   "cell_type": "code",
   "execution_count": null,
   "metadata": {},
   "outputs": [],
   "source": [
    "tokushima = {\"prefecture\":\"徳島県\", \"weather\":\"晴れ\", \"temperature\":\"24℃\"}\n",
    "print()"
   ]
  },
  {
   "cell_type": "markdown",
   "metadata": {},
   "source": [
    "### 演習9.2  簡単な辞書を作って表示"
   ]
  },
  {
   "cell_type": "code",
   "execution_count": null,
   "metadata": {},
   "outputs": [],
   "source": [
    "dictionary = {}\n",
    "print()"
   ]
  },
  {
   "cell_type": "markdown",
   "metadata": {},
   "source": [
    "***\n",
    "## レポート課題"
   ]
  },
  {
   "cell_type": "markdown",
   "metadata": {},
   "source": [
    "### 問1 半径3の円の面積と演習を求めるプログラムを作成せよ"
   ]
  },
  {
   "cell_type": "code",
   "execution_count": null,
   "metadata": {},
   "outputs": [],
   "source": [
    "r = 3\n",
    "print()"
   ]
  },
  {
   "cell_type": "markdown",
   "metadata": {},
   "source": [
    "### 問2 1-10の数字を総和が偶数か奇数か判別せよ(for,whileのどちらかを使って)"
   ]
  },
  {
   "cell_type": "code",
   "execution_count": null,
   "metadata": {},
   "outputs": [],
   "source": [
    "print(\"偶数です\")\n",
    "print(\"奇数です\")"
   ]
  },
  {
   "cell_type": "markdown",
   "metadata": {},
   "source": [
    "### 問3 ピラミッドを作成せよ"
   ]
  },
  {
   "cell_type": "raw",
   "metadata": {},
   "source": [
    "     *\n",
    "    ***\n",
    "   *****\n",
    "  *******\n",
    " *********\n",
    "***********  を作成せよ"
   ]
  },
  {
   "cell_type": "code",
   "execution_count": null,
   "metadata": {},
   "outputs": [],
   "source": []
  },
  {
   "cell_type": "markdown",
   "metadata": {},
   "source": [
    "### 問4 Python2とPython3が主流であるが、その違いとは何か(300字程度)"
   ]
  },
  {
   "cell_type": "code",
   "execution_count": null,
   "metadata": {},
   "outputs": [],
   "source": []
  },
  {
   "cell_type": "markdown",
   "metadata": {},
   "source": [
    "### 問5 社会でPythonがどのように使われているか、実例をもとに書け(300字程度)"
   ]
  },
  {
   "cell_type": "code",
   "execution_count": null,
   "metadata": {},
   "outputs": [],
   "source": []
  },
  {
   "cell_type": "markdown",
   "metadata": {},
   "source": [
    "***\n",
    "### 参考文献があれば記載しておくこと  \n",
    "### 連絡先 : 三村英之 ( c612035034@tokushima-u.ac.jp )\n"
   ]
  },
  {
   "cell_type": "markdown",
   "metadata": {},
   "source": [
    "***\n",
    "\n",
    "# SVM\n",
    "\n",
    "## 目次\n",
    "1. SVMとは\n",
    "\n",
    "1. アヤメデータセットとは  \n",
    "\n",
    "1. アヤメデータ分類の流れ  \n",
    "\n",
    "\n",
    "## SVMとは\n",
    "サポートベクターマシン(Support Vector Machine)は、データを分類して境界線を引くアルゴリズムです。\n",
    "例として、架空の鳥の種類を分類する問題を考えてみます。\n",
    "\n",
    "下記の画像は、縦軸を「羽の大きさ」、横軸を「体の大きさ」とした2つの特徴量をもとに、AとBを分類したいとします。  \n",
    "\n",
    "では、どのように分類されるかを見ていきましょう。  \n",
    "<div align=\"center\">\n",
    "<img src=\"https://user-images.githubusercontent.com/51330824/84215585-a9c81300-ab01-11ea-8147-f54844c0cc31.jpg\" width=60%>  \n",
    "\n",
    "下の図は、体の大きさだけで分類したものです。  \n",
    "\n",
    "体が小さければA、大きければBと判定されることになります。\n",
    "<div align=\"center\">\n",
    "<img src=\"https://user-images.githubusercontent.com/51330824/84467516-67483700-acb7-11ea-87ae-79dee16ec529.png\" width=60%>  \n",
    "\n",
    "次の図は、体の大きさと、羽の大きさの両方を考慮して分類してみたものです。  \n",
    "\n",
    "体が小さいわりに羽が大きければA。体のわりに羽が小さければBとなります。\n",
    "    \n",
    "<div align=\"center\">\n",
    "<img src=\"https://user-images.githubusercontent.com/51330824/84215595-b6e50200-ab01-11ea-8611-c4ca985d05dd.jpg\" width=60%>  \n",
    "\n",
    "この段階ではどちも正しく判別できているように見えます。　　\n",
    "\n",
    "例えば、下の図のように、B種のデータが追加で入ったとします。  \n",
    "\n",
    "新しいデータは、Bのほかのデータととても近い位置にプロットされています。  \n",
    "    \n",
    "<div align=\"center\">\n",
    "<img src=\"https://user-images.githubusercontent.com/51330824/84557119-489f7a00-ad63-11ea-9759-c4eaedad4710.png\" width=60%>  \n",
    "    \n",
    "一番目の体の大きさだけで分類する場合、下記の左側の図のように、誤識別をします。　　\n",
    "\n",
    "一方で二つ目の体の大きさと羽の大きさで分類する場合、下記の右側の図のように、正しく分類します。\n",
    "\n",
    "<img src=\"https://user-images.githubusercontent.com/51330824/84557095-10983700-ad63-11ea-9650-16e946fbfd55.png\" width=50%><img src=\"https://user-images.githubusercontent.com/51330824/84557098-2279da00-ad63-11ea-9265-998c5d0d4744.png\" width=50%>  \n",
    "\n",
    "SVMでは、正しい分類基準を見つけるために、マージン最大化という考えを使います。  \n",
    "\n",
    "マージンとは、判別する境界とデータとの距離を指します。  \n",
    "\n",
    "これが大きければ、ほんの少しデータが変わっただけで誤識別してしまうというミスをなくすことができます。  \n",
    "\n",
    "なお、境界線と最も近くにあるデータを「サポートベクトル」と呼びます。  \n",
    "    \n",
    "<div align=\"center\">\n",
    "<img src=\"https://user-images.githubusercontent.com/51330824/84557346-4f2ef100-ad65-11ea-97c8-a280cac4220f.png\" width=60%>    \n",
    "    \n",
    "境界近くにあるデータは、「AかBか微妙」な位置にあるデータであり、境界とデータとの距離、すなわちマージンを大きくするようにして誤識別を防ぎます。  \n",
    "\n",
    "なので、誤識別を防ぐには「境界の近くにあるデータ」だけあれば十分に識別することができます。  \n",
    "    \n",
    "SVMを使うメリットとして、以下のようなことがあります。  \n",
    "    \n",
    "・簡単に実装できること  \n",
    "    \n",
    "・分類精度が高い  \n",
    " \n",
    "・分類する境界線が非線形にも対応　などが挙げられます。  \n",
    "\n",
    "<!-- 先ほどの例では、AとBの2クラスを分類していました。他にも、3クラス分類や4クラス以上の多クラス分類も可能です。   -->\n",
    "　　\n",
    "\n",
    "今回の実習では、3クラスでの分類を行います。\n",
    "\n",
    "### アヤメデータセットとは\n",
    "機械学習でよく使われるアヤメの品種のデータです。アヤメの品種である**Setosa Versicolor Virginica**の3品種に関する150件のデータが入っています。  \n",
    "<div align=\"center\">  \n",
    "<img src=\"https://user-images.githubusercontent.com/51330824/84467525-6f07db80-acb7-11ea-8a46-9401185a02bb.png\" width=100%>  \n",
    "\n",
    "データセットの中身は**Sepal Length（がく片の長さ）、 Sepal Width（がく片の幅）、 Petal Length（花びらの長さ）、 Petal Width（花びらの幅）**の4つの特徴量を持っています。\n",
    "\n",
    "### アヤメデータ分類の流れ\n",
    "\n",
    "実習の目的は、アヤメのがく片や花びらの幅や長さの数値を用いてSVMでアヤメの品種を分類します。  \n",
    "\n",
    "#### 1.データの読み込み  \n",
    "まず、データを読み込みます。データの中身は以下のようになっています。  \n",
    "\n",
    "||Sepal(がく)Length|SepalWidth|Petal(花びら)Length|PetalWidth|Name  \n",
    "|:---:|:---:|:---:|:---:|:---:|:---:|  \n",
    "|0|5.1|3.5|1.4|0.2|Iris-setosa|  \n",
    "|1|4.9|3.0|1.4|0.2|Iris-setosa|  \n",
    "|2|4.7|3.2|1.3|0.2|Iris-setosa|  \n",
    "・・・（省略）  \n",
    "|70|...|...|...|...|Iris-versicolor|  \n",
    "...(省略)\n",
    "|149|...|...|...|...|Iris-virginica|\n",
    "\n",
    "#### 2.説明変数と目的変数に分ける  \n",
    "csvファイルを読み込めたら、目的変数に当たる品種名と、説明変数にあたるデータ(がく片と花びらの長さ)に分けていきます。  \n",
    "\n",
    "|説明変数|目的変数|\n",
    "|:---:|:---:|\n",
    "|がく片の長さ||  \n",
    "|がく片の幅|・setosa|  \n",
    "|花びらの長さ|・versicolor|  \n",
    "|花びらの幅|・virginica|  \n",
    "    \n",
    "データの分け方は実習で詳しく説明します。\n",
    "\n",
    "#### 3.学習用データとテスト用データに分ける  \n",
    "    \n",
    "||Sepal(がく)Length|SepalWidth|Petal(花びら)Length|PetalWidth|Name  \n",
    "|:---:|:---:|:---:|:---:|:---:|:---:|  \n",
    "|4|5.1|3.5|1.4|0.2|Iris-setosa|  \n",
    "|6|4.9|3.0|1.4|0.2|Iris-setosa|  \n",
    "・・・（省略）  \n",
    "|90|...|...|...|...|Iris-versicolor|  \n",
    "...(省略)\n",
    "|149|...|...|...|...|Iris-virginica|\n",
    "    \n",
    "教師あり機械学習(SVM)によるモデルを作成するには、学習用データとテスト用データの二つに分割し、予測モデルの作成、評価を行うのが一般的です。  \n",
    "\n",
    "今回、アヤメデータは150データあるので、105の学習用データと45のテスト用データ（7:3）に分けます。分け方はランダムで行います。　　\n",
    "\n",
    "#### 4.学習させて評価する   \n",
    "\n",
    "<div align=\"center\">  \n",
    "<img src=\"https://user-images.githubusercontent.com/51330824/84804460-c8686580-b03d-11ea-8241-5400b9e18c80.png\" width=100%>  \n",
    "    \n",
    "上図のように先ほど150データの内105データを学習データにしました。この105データの説明変数(4つの特徴量)と目的変数(アヤメの名前)の関係性を学習し、説明変数が与えられたときに目的変数を返すモデルを作成します。(説明変数と目的変数の関連性を学び、説明変数で目的変数を予測する)  \n",
    "    \n",
    "続いて、下図のようにテスト用データにした45のデータの説明変数のみと作成したモデルを用いて、予測結果を算出します。  \n",
    "     \n",
    "<img src=\"https://user-images.githubusercontent.com/51330824/84805853-d6b78100-b03f-11ea-9207-cc212693f548.png\" width=60%>  <img src=\"https://user-images.githubusercontent.com/51330824/84806144-36159100-b040-11ea-9046-8df2b060808c.png\" width=20%>  \n",
    "\n",
    "求めた予測結果と実際のアヤメの種類と比較することで、どれだけ正しく予測できるか(確率)確認することで、モデルの予測性能を測ります。  \n",
    "    \n",
    "<img src=\"https://user-images.githubusercontent.com/51330824/84806868-5003a380-b041-11ea-822a-ac85b0d60ca9.png\" width=60%>  <img src=\"https://user-images.githubusercontent.com/51330824/84806144-36159100-b040-11ea-9046-8df2b060808c.png\" width=20%>  \n",
    "\n",
    "それでは、実際にPythonを使ってSVMをやってみましょう。  \n",
    "\n",
    "    \n",
    "<参考文献>  \n",
    "・サポートベクターマシンの考え方  \n",
    "https://logics-of-blue.com/svm-concept/  \n",
    "・初心者に向けてアヤメ分類を一から解説してみた  \n",
    "https://qiita.com/Hirochon/items/12379d7ca6141f1fb6fa  \n",
    "・アヤメデータを使った機械学習の流れを簡単にまとめてみた  \n",
    "https://yolo.love/scikit-learn/iris/  "
   ]
  },
  {
   "cell_type": "markdown",
   "metadata": {},
   "source": [
    "***\n",
    "# SVMの実装"
   ]
  },
  {
   "cell_type": "markdown",
   "metadata": {},
   "source": [
    "## １. ライブラリをインポート"
   ]
  },
  {
   "cell_type": "code",
   "execution_count": null,
   "metadata": {},
   "outputs": [],
   "source": [
    "import pandas as pd\n",
    "import numpy as np\n",
    "from sklearn.model_selection import train_test_split\n",
    "from sklearn.svm import SVC\n",
    "from sklearn.metrics import accuracy_score\n",
    "from sklearn.datasets import load_iris"
   ]
  },
  {
   "cell_type": "markdown",
   "metadata": {},
   "source": [
    "## 2 . アヤメデータセットを読み込む"
   ]
  },
  {
   "cell_type": "code",
   "execution_count": null,
   "metadata": {},
   "outputs": [],
   "source": [
    "iris = load_iris()"
   ]
  },
  {
   "cell_type": "markdown",
   "metadata": {},
   "source": [
    "### データの中身を見てみよう"
   ]
  },
  {
   "cell_type": "code",
   "execution_count": null,
   "metadata": {},
   "outputs": [],
   "source": [
    "print(iris)"
   ]
  },
  {
   "cell_type": "markdown",
   "metadata": {},
   "source": [
    "### データの好きな部分を見てみよう"
   ]
  },
  {
   "cell_type": "code",
   "execution_count": null,
   "metadata": {},
   "outputs": [],
   "source": [
    "print(iris.data)"
   ]
  },
  {
   "cell_type": "markdown",
   "metadata": {},
   "source": [
    "## 3 . データを訓練用とテスト用に分ける"
   ]
  },
  {
   "cell_type": "code",
   "execution_count": null,
   "metadata": {},
   "outputs": [],
   "source": [
    "x, y = iris.data, iris.target\n",
    "\n",
    "# 学習用とテスト用に分離する\n",
    "x_train, x_test, y_train, y_test = train_test_split(x, y, test_size = 0.2, train_size = 0.8, shuffle = False)"
   ]
  },
  {
   "cell_type": "markdown",
   "metadata": {},
   "source": [
    "## 4 . データを学習する"
   ]
  },
  {
   "cell_type": "code",
   "execution_count": null,
   "metadata": {},
   "outputs": [],
   "source": [
    "# 学習する\n",
    "clf = SVC()\n",
    "clf.fit(x_train, y_train)"
   ]
  },
  {
   "cell_type": "markdown",
   "metadata": {},
   "source": [
    "## 5 . データを評価する"
   ]
  },
  {
   "cell_type": "code",
   "execution_count": null,
   "metadata": {},
   "outputs": [],
   "source": [
    "# 評価する\n",
    "y_pred = clf.predict(x_test)\n",
    "print(accuracy_score(y_test, y_pred))"
   ]
  },
  {
   "cell_type": "markdown",
   "metadata": {},
   "source": [
    "## 6 . 新しいデータを分類してみよう"
   ]
  },
  {
   "cell_type": "code",
   "execution_count": null,
   "metadata": {},
   "outputs": [],
   "source": [
    "# 学習済みモデルを使う\n",
    "print(clf.predict([[1.4, 3.5, 5.1, 0.2], [6.5, 2.6, 4.4, 1.4], [5.9, 3.0, 5.2, 1.5]]))"
   ]
  },
  {
   "cell_type": "markdown",
   "metadata": {},
   "source": [
    "***\n",
    "# レポート課題\n",
    "## 問1. 機械学習と深層学習の違いとは？\n",
    "実は今回紹介したSVMは、「機械学習」に分類されます。これによく似た言葉として、「深層学習」という言葉がありますが、それらの違いとはなんでしょうか？\n",
    "\n",
    "## 問2. SVM以外の識別器について\n",
    "SVMの他にも、現在様々な識別器があらゆる分野で使用されています。それらの名称や特徴、使用されている事例などを各自で2種類以上調べてみてください。\n",
    "\n",
    "これらの問題をレポート用紙1〜2枚程度にまとめて、来週7/22(水)までにmanaba及びc612035034@tokushima-u.ac.jpまでに提出してください。\n"
   ]
  }
 ],
 "metadata": {
  "kernelspec": {
   "display_name": "Python 3",
   "language": "python",
   "name": "python3"
  },
  "language_info": {
   "codemirror_mode": {
    "name": "ipython",
    "version": 3
   },
   "file_extension": ".py",
   "mimetype": "text/x-python",
   "name": "python",
   "nbconvert_exporter": "python",
   "pygments_lexer": "ipython3",
   "version": "3.7.6"
  }
 },
 "nbformat": 4,
 "nbformat_minor": 4
}
